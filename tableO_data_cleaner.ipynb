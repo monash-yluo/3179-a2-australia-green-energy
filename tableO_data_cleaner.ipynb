{
 "cells": [
  {
   "cell_type": "code",
   "execution_count": 2,
   "id": "0aef8c32",
   "metadata": {},
   "outputs": [],
   "source": [
    "import pandas as pd\n",
    "\n",
    "# 读取 CSV 文件\n",
    "df = pd.read_csv(\"data/Table O FY.csv\")\n",
    "\n",
    "df[\"Quantity\"].fillna(0, inplace=True)\n",
    "\n",
    "# 使用 pivot_table 函数进行数据透视\n",
    "pivot_df = df.pivot_table(\n",
    "    index=[\"Jurisdiction\", \"iso_3166_2\", \"YearDur\", \"Year\"],\n",
    "    columns=\"Fuel\",\n",
    "    values=\"Quantity\",\n",
    "    aggfunc=\"first\",\n",
    ").reset_index()\n",
    "\n",
    "# 删除year = #VALUE!的行\n",
    "pivot_df = pivot_df[pivot_df[\"Year\"] != \"#VALUE!\"]\n",
    "\n",
    "# 将结果保存为新的 CSV 文件\n",
    "csv_path = \"data/Table_O_FY_pivot.csv\"\n",
    "pivot_df.to_csv(csv_path, index=False)"
   ]
  }
 ],
 "metadata": {
  "kernelspec": {
   "display_name": "Python 3",
   "language": "python",
   "name": "python3"
  },
  "language_info": {
   "codemirror_mode": {
    "name": "ipython",
    "version": 3
   },
   "file_extension": ".py",
   "mimetype": "text/x-python",
   "name": "python",
   "nbconvert_exporter": "python",
   "pygments_lexer": "ipython3",
   "version": "3.10.11"
  }
 },
 "nbformat": 4,
 "nbformat_minor": 5
}
